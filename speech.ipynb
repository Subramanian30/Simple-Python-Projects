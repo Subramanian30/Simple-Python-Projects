{
 "cells": [
  {
   "cell_type": "code",
   "execution_count": 10,
   "id": "41e6c04c",
   "metadata": {},
   "outputs": [
    {
     "name": "stdout",
     "output_type": "stream",
     "text": [
      "Recognized hello\n",
      "continue?yes\n",
      "Recognized hello\n",
      "continue?yes\n",
      "Recognized how are you\n",
      "continue?yes\n",
      "Recognized subramanian\n",
      "continue?no\n"
     ]
    }
   ],
   "source": [
    "import speech_recognition\n",
    "import pyttsx3\n",
    "recognizer = speech_recognition.Recognizer()\n",
    "while True:\n",
    "    try:\n",
    "        with speech_recognition.Microphone() as mic:\n",
    "            recognizer.adjust_for_ambient_noise(mic,duration=0.2)\n",
    "            audio=recognizer.listen(mic)\n",
    "            text = recognizer.recognize_google(audio)\n",
    "            text=text.lower()\n",
    "            \n",
    "            print(f\"Recognized {text}\")\n",
    "            final = text\n",
    "            cont = input(\"continue?\")\n",
    "            if(cont==\"no\"):\n",
    "                break\n",
    "    except speech_recognition.UnknownValueError():\n",
    "        recognizer = swpeech_recognition.Recognizer()\n",
    "        continue"
   ]
  }
 ],
 "metadata": {
  "kernelspec": {
   "display_name": "Python 3 (ipykernel)",
   "language": "python",
   "name": "python3"
  },
  "language_info": {
   "codemirror_mode": {
    "name": "ipython",
    "version": 3
   },
   "file_extension": ".py",
   "mimetype": "text/x-python",
   "name": "python",
   "nbconvert_exporter": "python",
   "pygments_lexer": "ipython3",
   "version": "3.9.7"
  }
 },
 "nbformat": 4,
 "nbformat_minor": 5
}
