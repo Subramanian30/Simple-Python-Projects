{
 "cells": [
  {
   "cell_type": "code",
   "execution_count": 8,
   "id": "f02574f3",
   "metadata": {},
   "outputs": [
    {
     "name": "stdout",
     "output_type": "stream",
     "text": [
      "Enter Emailrmsubramanian2@gmail.com\n",
      "Enter Password\n",
      "········\n"
     ]
    }
   ],
   "source": [
    "from cryptography.fernet import Fernet\n",
    "import sqlite3\n",
    "import getpass\n",
    "\n",
    "con = sqlite3.connect('example1.db')\n",
    "cur = con.cursor()\n",
    "\n",
    "email =input(\"Enter Email\")\n",
    "\n",
    "print(\"Enter Password\")\n",
    "try:\n",
    "    password = getpass.getpass()\n",
    "except Exception as error:\n",
    "    print('ERROR', error)\n",
    "    \n",
    "key = Fernet.generate_key()\n",
    "\n",
    "fernet = Fernet(key)\n",
    "\n",
    "encmail = fernet.encrypt(email.encode())\n",
    "encpass = fernet.encrypt(password.encode())\n",
    "\n",
    "# print(\"original string: \", email)\n",
    "# print(\"encrypted string: \", encmail)\n",
    "\n",
    "# print(\"original string: \", password)\n",
    "# print(\"encrypted string: \", encpass)\n",
    "\n",
    "cur.execute('''CREATE TABLE IF NOT EXISTS mail_list(email TEXT PRIMARY KEY, password text)''')\n",
    "cur.execute('''INSERT INTO mail_list VALUES(?,?)''',(encmail,encpass))\n",
    "con.commit()\n",
    "# decMessage = fernet.decrypt(encMessage).decode()\n",
    "\n",
    "# print(\"decrypted string: \", decMessage)\n"
   ]
  },
  {
   "cell_type": "code",
   "execution_count": 9,
   "id": "97431976",
   "metadata": {
    "scrolled": true
   },
   "outputs": [
    {
     "name": "stdout",
     "output_type": "stream",
     "text": [
      "(b'gAAAAABkUNYt-Y1hX-w9m-D40vdX3Xb_VY04oySLBG183YrqFspMqY4EGR22dYRqFW6EUMktyvNOGNqDCAaED9VgyOIVrs3JJZhYbjwsvjoxiKc_9KRdXB4=', b'gAAAAABkUNYtDvbuAJDFxgxyPJcOHX5-7p1xvrcrskKvdanM6_WbRNvtLz9LF0mtgko4qWu6amHSqNgB-H9vfjaxxh8ZxSBxfA==')\n"
     ]
    }
   ],
   "source": [
    "for row in cur.execute('''SELECT * FROM mail_list'''):\n",
    "    print(row)"
   ]
  }
 ],
 "metadata": {
  "kernelspec": {
   "display_name": "Python 3 (ipykernel)",
   "language": "python",
   "name": "python3"
  },
  "language_info": {
   "codemirror_mode": {
    "name": "ipython",
    "version": 3
   },
   "file_extension": ".py",
   "mimetype": "text/x-python",
   "name": "python",
   "nbconvert_exporter": "python",
   "pygments_lexer": "ipython3",
   "version": "3.9.7"
  }
 },
 "nbformat": 4,
 "nbformat_minor": 5
}
